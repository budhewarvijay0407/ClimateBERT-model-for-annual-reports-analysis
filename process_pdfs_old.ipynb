{
 "cells": [
  {
   "cell_type": "code",
   "execution_count": 22,
   "id": "b5892b40",
   "metadata": {},
   "outputs": [
    {
     "name": "stderr",
     "output_type": "stream",
     "text": [
      "[nltk_data] Downloading package wordnet to\n",
      "[nltk_data]     /Users/mertozlutras/nltk_data...\n",
      "[nltk_data]   Package wordnet is already up-to-date!\n",
      "[nltk_data] Downloading package omw-1.4 to\n",
      "[nltk_data]     /Users/mertozlutras/nltk_data...\n"
     ]
    },
    {
     "data": {
      "text/plain": [
       "True"
      ]
     },
     "execution_count": 22,
     "metadata": {},
     "output_type": "execute_result"
    }
   ],
   "source": [
    "import os\n",
    "import PyPDF2\n",
    "import nltk\n",
    "from nltk.stem import WordNetLemmatizer\n",
    "nltk.download('wordnet')\n",
    "nltk.download('omw-1.4')"
   ]
  },
  {
   "cell_type": "code",
   "execution_count": 23,
   "id": "6f678aeb",
   "metadata": {},
   "outputs": [],
   "source": [
    "wnl = WordNetLemmatizer()"
   ]
  },
  {
   "cell_type": "code",
   "execution_count": 9,
   "id": "1809542f",
   "metadata": {},
   "outputs": [],
   "source": [
    "\n",
    "# Define the directory containing the PDF files\n",
    "directory = 'annual_reports_III'\n",
    "\n",
    "# Define the list of keywords to search for\n",
    "candidates_scope1 = 'Direct emissions, on-site emissions, on site emissions, combustion emissions, fuel consumption, stationary sources, fugitive emissions, process emissions, greenhouse gas emissions, carbon footprint, Clean Air Act, emissions reductions, carbon tax, carbon offsetting, carbon credits, carbon trading, carbon footprint reduction, carbon neutral, carbon management, carbon accounting'\n",
    "candidates_scope1 = candidates_scope1.split(', ')\n",
    "\n",
    "candidates_scope2 = 'Indirect emissions, purchased electricity, grid-purchased electricity, energy consumption, greenhouse gas emissions, carbon footprint, Renewable Energy Certificates (RECs), power purchase agreements (PPAs), energy efficiency, demand-side management, energy conservation, carbon offsetting, carbon credits, carbon trading, carbon footprint reduction, carbon neutral, carbon management, carbon accounting'\n",
    "candidates_scope2 = candidates_scope2.split(', ')\n",
    "\n",
    "candidates_scope3 = 'Indirect emissions, supply chain emissions, upstream emissions, downstream emissions, transportation emissions, distribution emissions, use phase emissions, end-of-life emissions, embodied carbon, life cycle assessment (LCA), carbon footprint, carbon offsetting, carbon credits, carbon trading, carbon footprint reduction, carbon neutral, carbon management, carbon accounting'\n",
    "candidates_scope3 = candidates_scope3.split(', ')"
   ]
  },
  {
   "cell_type": "code",
   "execution_count": 50,
   "id": "b85226d7",
   "metadata": {},
   "outputs": [],
   "source": [
    "# Cleans the sentences and gives you clean things to search for in pdfs\n",
    "\n",
    "def clean_keyword_sentences(candidates):\n",
    "    keywords_scope = []\n",
    "    # We get every phrase from the keywords list\n",
    "    for phrase in candidates:\n",
    "        # each keyword from the keywords list will be lemmatized\n",
    "        keywords = []\n",
    "        for keyword in phrase.split():\n",
    "            keywords.append(wnl.lemmatize(keyword.lower()))\n",
    "        keywords_scope.append(' '.join(keywords))\n",
    "        \n",
    "    return keywords_scope"
   ]
  },
  {
   "cell_type": "code",
   "execution_count": 54,
   "id": "f6e78655",
   "metadata": {},
   "outputs": [],
   "source": [
    "keywords = clean_keyword_sentences(candidates_scope1)"
   ]
  },
  {
   "cell_type": "code",
   "execution_count": 52,
   "id": "340a2db9",
   "metadata": {},
   "outputs": [
    {
     "data": {
      "text/plain": [
       "['direct emission',\n",
       " 'on-site emission',\n",
       " 'on site emission',\n",
       " 'combustion emission',\n",
       " 'fuel consumption',\n",
       " 'stationary source',\n",
       " 'fugitive emission',\n",
       " 'process emission',\n",
       " 'greenhouse gas emission',\n",
       " 'carbon footprint',\n",
       " 'clean air act',\n",
       " 'emission reduction',\n",
       " 'carbon tax',\n",
       " 'carbon offsetting',\n",
       " 'carbon credit',\n",
       " 'carbon trading',\n",
       " 'carbon footprint reduction',\n",
       " 'carbon neutral',\n",
       " 'carbon management',\n",
       " 'carbon accounting']"
      ]
     },
     "execution_count": 52,
     "metadata": {},
     "output_type": "execute_result"
    }
   ],
   "source": [
    "keywords_scope1"
   ]
  },
  {
   "cell_type": "code",
   "execution_count": 72,
   "id": "2fe2529a",
   "metadata": {},
   "outputs": [],
   "source": [
    "# Iterate over each file in the directory\n",
    "\n",
    "# We input which scope we are looking for, it uses the correct search keyword list for this specific scope \n",
    "def retrieve_examples_from_all_files(scope:int):\n",
    "    if scope == 1:\n",
    "        search_for_list = candidates_scope1\n",
    "    elif scope == 2:\n",
    "        search_for_list = candidates_scope2\n",
    "    elif scope == 3:\n",
    "        search_for_list = candidates_scope3\n",
    "    else:\n",
    "        print('Scope should be 1,2 or 3')\n",
    "\n",
    "    keywords = clean_keyword_sentences(search_for_list)\n",
    "\n",
    "    examples_to_annotate = []\n",
    "    scope = scope\n",
    "\n",
    "    counter = 1\n",
    "    for filename in os.listdir(directory):\n",
    "        if filename.endswith('.pdf'):\n",
    "            # Open the PDF file\n",
    "            with open(os.path.join(directory, filename), 'rb') as pdf_file:\n",
    "                pdf_reader = PyPDF2.PdfReader(pdf_file)\n",
    "\n",
    "                # Iterate over each page\n",
    "                for page_num in range(len(pdf_reader.pages)):\n",
    "                    page = pdf_reader.pages[page_num]\n",
    "                    text = page.extract_text()\n",
    "\n",
    "                    # Clean the text by removing newline characters\n",
    "                    text = ' '.join(text.split())\n",
    "\n",
    "                    # lemmatize the words\n",
    "                    text = ' '.join([wnl.lemmatize(keyword.lower()) for keyword in text.split()])\n",
    "\n",
    "                    # Iterate over each keyword\n",
    "                    for keyword in keywords:\n",
    "                        # Search for keyword in the text\n",
    "                        if keyword in text:\n",
    "                            print(f'{keyword} found on page {page_num+1} of {filename}')\n",
    "\n",
    "                            # we define the dictionary item to add to our list\n",
    "                            item = {'filename': filename,\n",
    "                                   'page': page_num,\n",
    "                                   'text': text,\n",
    "                                   'scope': scope}\n",
    "\n",
    "                            examples_to_annotate.append(item)\n",
    "        \n",
    "    return examples_to_annotate"
   ]
  },
  {
   "cell_type": "code",
   "execution_count": 73,
   "id": "df0b3c31",
   "metadata": {
    "scrolled": true
   },
   "outputs": [
    {
     "name": "stdout",
     "output_type": "stream",
     "text": [
      "fuel consumption found on page 33 of 0XXV-GB_2019_annual-report.pdf\n",
      "fuel consumption found on page 37 of 0XXV-GB_2019_annual-report.pdf\n",
      "carbon footprint found on page 46 of 0XXV-GB_2019_annual-report.pdf\n",
      "greenhouse gas emission found on page 141 of 0XXV-GB_2019_annual-report.pdf\n",
      "greenhouse gas emission found on page 143 of 0XXV-GB_2019_annual-report.pdf\n",
      "greenhouse gas emission found on page 11 of CAP-FR_2019_universal-registration-document.pdf\n",
      "greenhouse gas emission found on page 155 of CAP-FR_2019_universal-registration-document.pdf\n",
      "carbon footprint found on page 155 of CAP-FR_2019_universal-registration-document.pdf\n",
      "carbon accounting found on page 155 of CAP-FR_2019_universal-registration-document.pdf\n",
      "greenhouse gas emission found on page 158 of CAP-FR_2019_universal-registration-document.pdf\n",
      "carbon footprint found on page 159 of CAP-FR_2019_universal-registration-document.pdf\n",
      "emission reduction found on page 159 of CAP-FR_2019_universal-registration-document.pdf\n",
      "carbon footprint found on page 161 of CAP-FR_2019_universal-registration-document.pdf\n",
      "carbon accounting found on page 162 of CAP-FR_2019_universal-registration-document.pdf\n",
      "greenhouse gas emission found on page 163 of CAP-FR_2019_universal-registration-document.pdf\n",
      "greenhouse gas emission found on page 174 of CAP-FR_2019_universal-registration-document.pdf\n",
      "carbon accounting found on page 174 of CAP-FR_2019_universal-registration-document.pdf\n",
      "greenhouse gas emission found on page 216 of CAP-FR_2019_universal-registration-document.pdf\n",
      "carbon footprint found on page 216 of CAP-FR_2019_universal-registration-document.pdf\n",
      "greenhouse gas emission found on page 271 of CAP-FR_2019_universal-registration-document.pdf\n",
      "carbon footprint found on page 271 of CAP-FR_2019_universal-registration-document.pdf\n",
      "greenhouse gas emission found on page 293 of CAP-FR_2019_universal-registration-document.pdf\n",
      "greenhouse gas emission found on page 330 of CAP-FR_2019_universal-registration-document.pdf\n",
      "emission reduction found on page 330 of CAP-FR_2019_universal-registration-document.pdf\n",
      "greenhouse gas emission found on page 331 of CAP-FR_2019_universal-registration-document.pdf\n",
      "greenhouse gas emission found on page 3 of BA-GB_2020_annual-report.pdf\n",
      "greenhouse gas emission found on page 29 of BA-GB_2020_annual-report.pdf\n",
      "greenhouse gas emission found on page 35 of BA-GB_2020_annual-report.pdf\n",
      "greenhouse gas emission found on page 37 of BA-GB_2020_annual-report.pdf\n",
      "greenhouse gas emission found on page 38 of BA-GB_2020_annual-report.pdf\n",
      "greenhouse gas emission found on page 40 of BA-GB_2020_annual-report.pdf\n",
      "greenhouse gas emission found on page 41 of BA-GB_2020_annual-report.pdf\n",
      "greenhouse gas emission found on page 93 of BA-GB_2020_annual-report.pdf\n",
      "greenhouse gas emission found on page 103 of BA-GB_2020_annual-report.pdf\n",
      "greenhouse gas emission found on page 120 of BA-GB_2020_annual-report.pdf\n",
      "carbon footprint found on page 120 of BA-GB_2020_annual-report.pdf\n",
      "greenhouse gas emission found on page 174 of BA-GB_2020_annual-report.pdf\n",
      "carbon offsetting found on page 267 of BA-GB_2020_annual-report.pdf\n",
      "carbon footprint found on page 3 of CLLNY-US_2019_integrated-report.pdf\n",
      "emission reduction found on page 8 of CLLNY-US_2019_integrated-report.pdf\n",
      "carbon footprint found on page 83 of CLLNY-US_2019_integrated-report.pdf\n",
      "carbon footprint found on page 134 of CLLNY-US_2019_integrated-report.pdf\n",
      "carbon management found on page 134 of CLLNY-US_2019_integrated-report.pdf\n",
      "carbon footprint found on page 136 of CLLNY-US_2019_integrated-report.pdf\n",
      "greenhouse gas emission found on page 138 of CLLNY-US_2019_integrated-report.pdf\n",
      "carbon footprint found on page 138 of CLLNY-US_2019_integrated-report.pdf\n",
      "carbon management found on page 138 of CLLNY-US_2019_integrated-report.pdf\n",
      "greenhouse gas emission found on page 139 of CLLNY-US_2019_integrated-report.pdf\n",
      "carbon footprint found on page 139 of CLLNY-US_2019_integrated-report.pdf\n",
      "emission reduction found on page 139 of CLLNY-US_2019_integrated-report.pdf\n",
      "carbon footprint found on page 142 of CLLNY-US_2019_integrated-report.pdf\n",
      "carbon credit found on page 142 of CLLNY-US_2019_integrated-report.pdf\n",
      "carbon footprint found on page 150 of CLLNY-US_2019_integrated-report.pdf\n",
      "carbon footprint found on page 151 of CLLNY-US_2019_integrated-report.pdf\n",
      "carbon footprint found on page 168 of CLLNY-US_2019_integrated-report.pdf\n",
      "carbon footprint reduction found on page 168 of CLLNY-US_2019_integrated-report.pdf\n",
      "carbon footprint found on page 182 of CLLNY-US_2019_integrated-report.pdf\n",
      "carbon footprint found on page 188 of CLLNY-US_2019_integrated-report.pdf\n",
      "greenhouse gas emission found on page 189 of CLLNY-US_2019_integrated-report.pdf\n",
      "carbon footprint found on page 189 of CLLNY-US_2019_integrated-report.pdf\n",
      "greenhouse gas emission found on page 190 of CLLNY-US_2019_integrated-report.pdf\n",
      "carbon footprint found on page 190 of CLLNY-US_2019_integrated-report.pdf\n",
      "carbon footprint found on page 211 of CLLNY-US_2019_integrated-report.pdf\n",
      "fuel consumption found on page 3 of AM-FR_2020_annual-report.pdf\n",
      "fuel consumption found on page 24 of AM-FR_2020_annual-report.pdf\n",
      "fuel consumption found on page 36 of AM-FR_2020_annual-report.pdf\n",
      "carbon footprint found on page 36 of AM-FR_2020_annual-report.pdf\n",
      "greenhouse gas emission found on page 37 of AM-FR_2020_annual-report.pdf\n",
      "carbon footprint found on page 74 of AM-FR_2020_annual-report.pdf\n",
      "fuel consumption found on page 78 of AM-FR_2020_annual-report.pdf\n",
      "greenhouse gas emission found on page 78 of AM-FR_2020_annual-report.pdf\n",
      "carbon footprint found on page 82 of AM-FR_2020_annual-report.pdf\n",
      "fuel consumption found on page 106 of AM-FR_2020_annual-report.pdf\n",
      "fuel consumption found on page 107 of AM-FR_2020_annual-report.pdf\n",
      "direct emission found on page 111 of AM-FR_2020_annual-report.pdf\n",
      "fuel consumption found on page 111 of AM-FR_2020_annual-report.pdf\n",
      "greenhouse gas emission found on page 111 of AM-FR_2020_annual-report.pdf\n",
      "carbon footprint found on page 111 of AM-FR_2020_annual-report.pdf\n",
      "carbon offsetting found on page 112 of AM-FR_2020_annual-report.pdf\n",
      "greenhouse gas emission found on page 41 of CNVVY-US_2020_annual-report.pdf\n",
      "emission reduction found on page 41 of CNVVY-US_2020_annual-report.pdf\n",
      "greenhouse gas emission found on page 45 of CNVVY-US_2020_annual-report.pdf\n",
      "carbon footprint found on page 54 of CNVVY-US_2020_annual-report.pdf\n",
      "direct emission found on page 56 of CNVVY-US_2020_annual-report.pdf\n",
      "emission reduction found on page 56 of CNVVY-US_2020_annual-report.pdf\n",
      "carbon neutral found on page 56 of CNVVY-US_2020_annual-report.pdf\n",
      "carbon footprint found on page 58 of CNVVY-US_2020_annual-report.pdf\n",
      "carbon footprint found on page 59 of CNVVY-US_2020_annual-report.pdf\n",
      "greenhouse gas emission found on page 141 of CNVVY-US_2020_annual-report.pdf\n",
      "greenhouse gas emission found on page 217 of CNVVY-US_2020_annual-report.pdf\n",
      "emission reduction found on page 130 of DB1-DE_2020_annual-report.pdf\n"
     ]
    },
    {
     "ename": "KeyboardInterrupt",
     "evalue": "",
     "output_type": "error",
     "traceback": [
      "\u001b[0;31m---------------------------------------------------------------------------\u001b[0m",
      "\u001b[0;31mKeyboardInterrupt\u001b[0m                         Traceback (most recent call last)",
      "Input \u001b[0;32mIn [73]\u001b[0m, in \u001b[0;36m<cell line: 1>\u001b[0;34m()\u001b[0m\n\u001b[0;32m----> 1\u001b[0m examples_scope1 \u001b[38;5;241m=\u001b[39m \u001b[43mretrieve_examples_from_all_files\u001b[49m\u001b[43m(\u001b[49m\u001b[43mscope\u001b[49m\u001b[38;5;241;43m=\u001b[39;49m\u001b[38;5;241;43m1\u001b[39;49m\u001b[43m)\u001b[49m\n",
      "Input \u001b[0;32mIn [72]\u001b[0m, in \u001b[0;36mretrieve_examples_from_all_files\u001b[0;34m(scope)\u001b[0m\n\u001b[1;32m     16\u001b[0m \u001b[38;5;28;01mfor\u001b[39;00m page_num \u001b[38;5;129;01min\u001b[39;00m \u001b[38;5;28mrange\u001b[39m(\u001b[38;5;28mlen\u001b[39m(pdf_reader\u001b[38;5;241m.\u001b[39mpages)):\n\u001b[1;32m     17\u001b[0m     page \u001b[38;5;241m=\u001b[39m pdf_reader\u001b[38;5;241m.\u001b[39mpages[page_num]\n\u001b[0;32m---> 18\u001b[0m     text \u001b[38;5;241m=\u001b[39m \u001b[43mpage\u001b[49m\u001b[38;5;241;43m.\u001b[39;49m\u001b[43mextract_text\u001b[49m\u001b[43m(\u001b[49m\u001b[43m)\u001b[49m\n\u001b[1;32m     20\u001b[0m     \u001b[38;5;66;03m# Clean the text by removing newline characters\u001b[39;00m\n\u001b[1;32m     21\u001b[0m     text \u001b[38;5;241m=\u001b[39m \u001b[38;5;124m'\u001b[39m\u001b[38;5;124m \u001b[39m\u001b[38;5;124m'\u001b[39m\u001b[38;5;241m.\u001b[39mjoin(text\u001b[38;5;241m.\u001b[39msplit())\n",
      "File \u001b[0;32m~/opt/anaconda3/lib/python3.9/site-packages/PyPDF2/_page.py:1851\u001b[0m, in \u001b[0;36mPageObject.extract_text\u001b[0;34m(self, Tj_sep, TJ_sep, orientations, space_width, visitor_operand_before, visitor_operand_after, visitor_text, *args)\u001b[0m\n\u001b[1;32m   1848\u001b[0m \u001b[38;5;28;01mif\u001b[39;00m \u001b[38;5;28misinstance\u001b[39m(orientations, \u001b[38;5;28mint\u001b[39m):\n\u001b[1;32m   1849\u001b[0m     orientations \u001b[38;5;241m=\u001b[39m (orientations,)\n\u001b[0;32m-> 1851\u001b[0m \u001b[38;5;28;01mreturn\u001b[39;00m \u001b[38;5;28;43mself\u001b[39;49m\u001b[38;5;241;43m.\u001b[39;49m\u001b[43m_extract_text\u001b[49m\u001b[43m(\u001b[49m\n\u001b[1;32m   1852\u001b[0m \u001b[43m    \u001b[49m\u001b[38;5;28;43mself\u001b[39;49m\u001b[43m,\u001b[49m\n\u001b[1;32m   1853\u001b[0m \u001b[43m    \u001b[49m\u001b[38;5;28;43mself\u001b[39;49m\u001b[38;5;241;43m.\u001b[39;49m\u001b[43mpdf\u001b[49m\u001b[43m,\u001b[49m\n\u001b[1;32m   1854\u001b[0m \u001b[43m    \u001b[49m\u001b[43morientations\u001b[49m\u001b[43m,\u001b[49m\n\u001b[1;32m   1855\u001b[0m \u001b[43m    \u001b[49m\u001b[43mspace_width\u001b[49m\u001b[43m,\u001b[49m\n\u001b[1;32m   1856\u001b[0m \u001b[43m    \u001b[49m\u001b[43mPG\u001b[49m\u001b[38;5;241;43m.\u001b[39;49m\u001b[43mCONTENTS\u001b[49m\u001b[43m,\u001b[49m\n\u001b[1;32m   1857\u001b[0m \u001b[43m    \u001b[49m\u001b[43mvisitor_operand_before\u001b[49m\u001b[43m,\u001b[49m\n\u001b[1;32m   1858\u001b[0m \u001b[43m    \u001b[49m\u001b[43mvisitor_operand_after\u001b[49m\u001b[43m,\u001b[49m\n\u001b[1;32m   1859\u001b[0m \u001b[43m    \u001b[49m\u001b[43mvisitor_text\u001b[49m\u001b[43m,\u001b[49m\n\u001b[1;32m   1860\u001b[0m \u001b[43m\u001b[49m\u001b[43m)\u001b[49m\n",
      "File \u001b[0;32m~/opt/anaconda3/lib/python3.9/site-packages/PyPDF2/_page.py:1356\u001b[0m, in \u001b[0;36mPageObject._extract_text\u001b[0;34m(self, obj, pdf, orientations, space_width, content_key, visitor_operand_before, visitor_operand_after, visitor_text)\u001b[0m\n\u001b[1;32m   1352\u001b[0m     content \u001b[38;5;241m=\u001b[39m (\n\u001b[1;32m   1353\u001b[0m         obj[content_key]\u001b[38;5;241m.\u001b[39mget_object() \u001b[38;5;28;01mif\u001b[39;00m \u001b[38;5;28misinstance\u001b[39m(content_key, \u001b[38;5;28mstr\u001b[39m) \u001b[38;5;28;01melse\u001b[39;00m obj\n\u001b[1;32m   1354\u001b[0m     )\n\u001b[1;32m   1355\u001b[0m     \u001b[38;5;28;01mif\u001b[39;00m \u001b[38;5;129;01mnot\u001b[39;00m \u001b[38;5;28misinstance\u001b[39m(content, ContentStream):\n\u001b[0;32m-> 1356\u001b[0m         content \u001b[38;5;241m=\u001b[39m \u001b[43mContentStream\u001b[49m\u001b[43m(\u001b[49m\u001b[43mcontent\u001b[49m\u001b[43m,\u001b[49m\u001b[43m \u001b[49m\u001b[43mpdf\u001b[49m\u001b[43m,\u001b[49m\u001b[43m \u001b[49m\u001b[38;5;124;43m\"\u001b[39;49m\u001b[38;5;124;43mbytes\u001b[39;49m\u001b[38;5;124;43m\"\u001b[39;49m\u001b[43m)\u001b[49m\n\u001b[1;32m   1357\u001b[0m \u001b[38;5;28;01mexcept\u001b[39;00m \u001b[38;5;167;01mKeyError\u001b[39;00m:  \u001b[38;5;66;03m# it means no content can be extracted(certainly empty page)\u001b[39;00m\n\u001b[1;32m   1358\u001b[0m     \u001b[38;5;28;01mreturn\u001b[39;00m \u001b[38;5;124m\"\u001b[39m\u001b[38;5;124m\"\u001b[39m\n",
      "File \u001b[0;32m~/opt/anaconda3/lib/python3.9/site-packages/PyPDF2/generic/_data_structures.py:877\u001b[0m, in \u001b[0;36mContentStream.__init__\u001b[0;34m(self, stream, pdf, forced_encoding)\u001b[0m\n\u001b[1;32m    875\u001b[0m     stream_bytes \u001b[38;5;241m=\u001b[39m BytesIO(stream_data_bytes)\n\u001b[1;32m    876\u001b[0m \u001b[38;5;28mself\u001b[39m\u001b[38;5;241m.\u001b[39mforced_encoding \u001b[38;5;241m=\u001b[39m forced_encoding\n\u001b[0;32m--> 877\u001b[0m \u001b[38;5;28;43mself\u001b[39;49m\u001b[38;5;241;43m.\u001b[39;49m\u001b[43m__parse_content_stream\u001b[49m\u001b[43m(\u001b[49m\u001b[43mstream_bytes\u001b[49m\u001b[43m)\u001b[49m\n",
      "File \u001b[0;32m~/opt/anaconda3/lib/python3.9/site-packages/PyPDF2/generic/_data_structures.py:924\u001b[0m, in \u001b[0;36mContentStream.__parse_content_stream\u001b[0;34m(self, stream)\u001b[0m\n\u001b[1;32m    922\u001b[0m stream\u001b[38;5;241m.\u001b[39mseek(\u001b[38;5;241m-\u001b[39m\u001b[38;5;241m1\u001b[39m, \u001b[38;5;241m1\u001b[39m)\n\u001b[1;32m    923\u001b[0m \u001b[38;5;28;01mif\u001b[39;00m peek\u001b[38;5;241m.\u001b[39misalpha() \u001b[38;5;129;01mor\u001b[39;00m peek \u001b[38;5;129;01min\u001b[39;00m (\u001b[38;5;124mb\u001b[39m\u001b[38;5;124m\"\u001b[39m\u001b[38;5;124m'\u001b[39m\u001b[38;5;124m\"\u001b[39m, \u001b[38;5;124mb\u001b[39m\u001b[38;5;124m'\u001b[39m\u001b[38;5;124m\"\u001b[39m\u001b[38;5;124m'\u001b[39m):\n\u001b[0;32m--> 924\u001b[0m     operator \u001b[38;5;241m=\u001b[39m \u001b[43mread_until_regex\u001b[49m\u001b[43m(\u001b[49m\u001b[43mstream\u001b[49m\u001b[43m,\u001b[49m\u001b[43m \u001b[49m\u001b[43mNameObject\u001b[49m\u001b[38;5;241;43m.\u001b[39;49m\u001b[43mdelimiter_pattern\u001b[49m\u001b[43m,\u001b[49m\u001b[43m \u001b[49m\u001b[38;5;28;43;01mTrue\u001b[39;49;00m\u001b[43m)\u001b[49m\n\u001b[1;32m    925\u001b[0m     \u001b[38;5;28;01mif\u001b[39;00m operator \u001b[38;5;241m==\u001b[39m \u001b[38;5;124mb\u001b[39m\u001b[38;5;124m\"\u001b[39m\u001b[38;5;124mBI\u001b[39m\u001b[38;5;124m\"\u001b[39m:\n\u001b[1;32m    926\u001b[0m         \u001b[38;5;66;03m# begin inline image - a completely different parsing\u001b[39;00m\n\u001b[1;32m    927\u001b[0m         \u001b[38;5;66;03m# mechanism is required, of course... thanks buddy...\u001b[39;00m\n\u001b[1;32m    928\u001b[0m         \u001b[38;5;28;01massert\u001b[39;00m operands \u001b[38;5;241m==\u001b[39m []\n",
      "File \u001b[0;32m~/opt/anaconda3/lib/python3.9/site-packages/PyPDF2/_utils.py:156\u001b[0m, in \u001b[0;36mread_until_regex\u001b[0;34m(stream, regex, ignore_eof)\u001b[0m\n\u001b[1;32m    154\u001b[0m name \u001b[38;5;241m=\u001b[39m \u001b[38;5;124mb\u001b[39m\u001b[38;5;124m\"\u001b[39m\u001b[38;5;124m\"\u001b[39m\n\u001b[1;32m    155\u001b[0m \u001b[38;5;28;01mwhile\u001b[39;00m \u001b[38;5;28;01mTrue\u001b[39;00m:\n\u001b[0;32m--> 156\u001b[0m     tok \u001b[38;5;241m=\u001b[39m \u001b[43mstream\u001b[49m\u001b[38;5;241;43m.\u001b[39;49m\u001b[43mread\u001b[49m\u001b[43m(\u001b[49m\u001b[38;5;241;43m16\u001b[39;49m\u001b[43m)\u001b[49m\n\u001b[1;32m    157\u001b[0m     \u001b[38;5;28;01mif\u001b[39;00m \u001b[38;5;129;01mnot\u001b[39;00m tok:\n\u001b[1;32m    158\u001b[0m         \u001b[38;5;28;01mif\u001b[39;00m ignore_eof:\n",
      "\u001b[0;31mKeyboardInterrupt\u001b[0m: "
     ]
    }
   ],
   "source": [
    "examples_scope1 = retrieve_examples_from_all_files(scope=1)"
   ]
  },
  {
   "cell_type": "code",
   "execution_count": null,
   "id": "016b1266",
   "metadata": {},
   "outputs": [],
   "source": []
  }
 ],
 "metadata": {
  "kernelspec": {
   "display_name": "Python 3 (ipykernel)",
   "language": "python",
   "name": "python3"
  },
  "language_info": {
   "codemirror_mode": {
    "name": "ipython",
    "version": 3
   },
   "file_extension": ".py",
   "mimetype": "text/x-python",
   "name": "python",
   "nbconvert_exporter": "python",
   "pygments_lexer": "ipython3",
   "version": "3.9.12"
  }
 },
 "nbformat": 4,
 "nbformat_minor": 5
}
